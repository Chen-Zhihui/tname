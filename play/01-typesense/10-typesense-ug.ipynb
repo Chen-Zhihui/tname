{
 "cells": [
  {
   "cell_type": "markdown",
   "id": "6517de32-d8a2-4a06-9cca-abbbaed35031",
   "metadata": {},
   "source": [
    "# install \n",
    "## docker compose\n",
    "```yaml\n",
    "version: '3.4'\n",
    "services:\n",
    "  typesense:\n",
    "    image: typesense/typesense:0.25.0\n",
    "    restart: on-failure\n",
    "    ports:\n",
    "      - \"8108:8108\"\n",
    "    volumes:\n",
    "      - ./typesense-data:/data\n",
    "    command: '--data-dir /data --api-key=xyz --enable-cors'\n",
    "```"
   ]
  },
  {
   "cell_type": "markdown",
   "id": "52a9b653-a66a-4c6f-8fe0-0a3df48ab75b",
   "metadata": {},
   "source": [
    "### 启动脚本\n",
    "```bash\n",
    "mkdir $(pwd)/typesense-data\n",
    "docker-compose up\n",
    "```"
   ]
  },
  {
   "cell_type": "markdown",
   "id": "2f906e2c-6b81-4572-a052-18c37afe2557",
   "metadata": {},
   "source": [
    "### 关闭脚本\n",
    "```bash\n",
    "docker compose stop\n",
    "```"
   ]
  },
  {
   "cell_type": "markdown",
   "id": "7eb2a8e7-96ed-4828-81ca-96b391600fba",
   "metadata": {},
   "source": [
    "## WSL\n",
    "```bash\n",
    "curl -O https://dl.typesense.org/releases/0.25.0/typesense-server-0.25.0-amd64.deb\n",
    "sudo apt install ./typesense-server-0.25tart Typesense\n",
    "sudo /usr/bin/./typesense-server --config=/etc/typesense/typesense-server\n",
    "```"
   ]
  },
  {
   "cell_type": "markdown",
   "id": "f3cf8466-9131-43ac-a81d-23bb81d8c39f",
   "metadata": {},
   "source": [
    "# Get Started"
   ]
  },
  {
   "cell_type": "markdown",
   "id": "4288f67a-15a5-4791-afb5-915bf01223ab",
   "metadata": {},
   "source": [
    "## install a client"
   ]
  },
  {
   "cell_type": "code",
   "execution_count": 4,
   "id": "f88b7b28-f208-4c92-a4f2-0f92f2c75d94",
   "metadata": {},
   "outputs": [
    {
     "name": "stdout",
     "output_type": "stream",
     "text": [
      "Requirement already satisfied: typesense in /home/d/anaconda3/envs/s/lib/python3.11/site-packages (0.16.0)\n",
      "Requirement already satisfied: requests in /home/d/anaconda3/envs/s/lib/python3.11/site-packages (from typesense) (2.31.0)\n",
      "Requirement already satisfied: charset-normalizer<4,>=2 in /home/d/anaconda3/envs/s/lib/python3.11/site-packages (from requests->typesense) (3.2.0)\n",
      "Requirement already satisfied: idna<4,>=2.5 in /home/d/anaconda3/envs/s/lib/python3.11/site-packages (from requests->typesense) (3.4)\n",
      "Requirement already satisfied: urllib3<3,>=1.21.1 in /home/d/anaconda3/envs/s/lib/python3.11/site-packages (from requests->typesense) (1.26.16)\n",
      "Requirement already satisfied: certifi>=2017.4.17 in /home/d/anaconda3/envs/s/lib/python3.11/site-packages (from requests->typesense) (2023.7.22)\n"
     ]
    }
   ],
   "source": [
    "!pip install typesense"
   ]
  },
  {
   "cell_type": "code",
   "execution_count": 3,
   "id": "4f7475de-1c0f-40b0-b0d7-92056636d396",
   "metadata": {},
   "outputs": [
    {
     "name": "stdout",
     "output_type": "stream",
     "text": [
      "  % Total    % Received % Xferd  Average Speed   Time    Time     Time  Current\n",
      "                                 Dload  Upload   Total   Spent    Left  Speed\n",
      "100  475k  100  475k    0     0   262k      0  0:00:01  0:00:01 --:--:--  262k\n"
     ]
    }
   ],
   "source": [
    "!curl -O https://dl.typesense.org/datasets/books.jsonl.gz"
   ]
  },
  {
   "cell_type": "code",
   "execution_count": 15,
   "id": "a9275926-ddfe-480b-ba34-b0e8622d946e",
   "metadata": {},
   "outputs": [
    {
     "name": "stdout",
     "output_type": "stream",
     "text": [
      "gzip: books.jsonl already exists; do you wish to overwrite (y or n)? ^C\n",
      "10-typesense-ug.ipynb  books.jsonl.gz  typesense-data\n",
      "books.jsonl\t       compose.yaml\n"
     ]
    }
   ],
   "source": [
    "!gzip -dk books.jsonl.gz\n",
    "!ls"
   ]
  },
  {
   "cell_type": "markdown",
   "id": "8ee8a496-81da-4bd1-915e-83905d3abc9c",
   "metadata": {},
   "source": [
    "## initializing the client\n",
    "api_key= xyz \n",
    "\n",
    "port 8108"
   ]
  },
  {
   "cell_type": "code",
   "execution_count": 15,
   "id": "84b4f733-cdad-4398-b4d1-e3f3f73b8581",
   "metadata": {},
   "outputs": [],
   "source": [
    "import typesense\n",
    "client = typesense.Client({\n",
    "  'api_key': 'xyz',\n",
    "  'nodes': [{\n",
    "    'host': 'localhost',\n",
    "    'port': '8108',\n",
    "    'protocol': 'http'\n",
    "  }],\n",
    "  'connection_timeout_seconds': 2\n",
    "})"
   ]
  },
  {
   "cell_type": "markdown",
   "id": "f062922a-12f6-42cb-b374-0008f3e29887",
   "metadata": {},
   "source": [
    "### creating a book collection"
   ]
  },
  {
   "cell_type": "code",
   "execution_count": 16,
   "id": "5daf889d-754c-438d-8252-3364e5ad2ade",
   "metadata": {},
   "outputs": [
    {
     "ename": "ObjectAlreadyExists",
     "evalue": "[Errno 409] A collection with name `books` already exists.",
     "output_type": "error",
     "traceback": [
      "\u001b[0;31m---------------------------------------------------------------------------\u001b[0m",
      "\u001b[0;31mObjectAlreadyExists\u001b[0m                       Traceback (most recent call last)",
      "Cell \u001b[0;32mIn[16], line 14\u001b[0m\n\u001b[1;32m      1\u001b[0m books_schema \u001b[38;5;241m=\u001b[39m {\n\u001b[1;32m      2\u001b[0m   \u001b[38;5;124m'\u001b[39m\u001b[38;5;124mname\u001b[39m\u001b[38;5;124m'\u001b[39m: \u001b[38;5;124m'\u001b[39m\u001b[38;5;124mbooks\u001b[39m\u001b[38;5;124m'\u001b[39m,\n\u001b[1;32m      3\u001b[0m   \u001b[38;5;124m'\u001b[39m\u001b[38;5;124mfields\u001b[39m\u001b[38;5;124m'\u001b[39m: [\n\u001b[0;32m   (...)\u001b[0m\n\u001b[1;32m     11\u001b[0m   \u001b[38;5;124m'\u001b[39m\u001b[38;5;124mdefault_sorting_field\u001b[39m\u001b[38;5;124m'\u001b[39m: \u001b[38;5;124m'\u001b[39m\u001b[38;5;124mratings_count\u001b[39m\u001b[38;5;124m'\u001b[39m\n\u001b[1;32m     12\u001b[0m }\n\u001b[0;32m---> 14\u001b[0m create_response \u001b[38;5;241m=\u001b[39m \u001b[43mclient\u001b[49m\u001b[38;5;241;43m.\u001b[39;49m\u001b[43mcollections\u001b[49m\u001b[38;5;241;43m.\u001b[39;49m\u001b[43mcreate\u001b[49m\u001b[43m(\u001b[49m\u001b[43mbooks_schema\u001b[49m\u001b[43m)\u001b[49m\n",
      "File \u001b[0;32m~/anaconda3/envs/s/lib/python3.11/site-packages/typesense/collections.py:18\u001b[0m, in \u001b[0;36mCollections.create\u001b[0;34m(self, schema)\u001b[0m\n\u001b[1;32m     17\u001b[0m \u001b[38;5;28;01mdef\u001b[39;00m \u001b[38;5;21mcreate\u001b[39m(\u001b[38;5;28mself\u001b[39m, schema):\n\u001b[0;32m---> 18\u001b[0m     \u001b[38;5;28;01mreturn\u001b[39;00m \u001b[38;5;28;43mself\u001b[39;49m\u001b[38;5;241;43m.\u001b[39;49m\u001b[43mapi_call\u001b[49m\u001b[38;5;241;43m.\u001b[39;49m\u001b[43mpost\u001b[49m\u001b[43m(\u001b[49m\u001b[43mCollections\u001b[49m\u001b[38;5;241;43m.\u001b[39;49m\u001b[43mRESOURCE_PATH\u001b[49m\u001b[43m,\u001b[49m\u001b[43m \u001b[49m\u001b[43mschema\u001b[49m\u001b[43m)\u001b[49m\n",
      "File \u001b[0;32m~/anaconda3/envs/s/lib/python3.11/site-packages/typesense/api_call.py:153\u001b[0m, in \u001b[0;36mApiCall.post\u001b[0;34m(self, endpoint, body, params, as_json)\u001b[0m\n\u001b[1;32m    151\u001b[0m params \u001b[38;5;241m=\u001b[39m params \u001b[38;5;129;01mor\u001b[39;00m {}\n\u001b[1;32m    152\u001b[0m ApiCall\u001b[38;5;241m.\u001b[39mnormalize_params(params)\n\u001b[0;32m--> 153\u001b[0m \u001b[38;5;28;01mreturn\u001b[39;00m \u001b[38;5;28;43mself\u001b[39;49m\u001b[38;5;241;43m.\u001b[39;49m\u001b[43mmake_request\u001b[49m\u001b[43m(\u001b[49m\u001b[43mrequests\u001b[49m\u001b[38;5;241;43m.\u001b[39;49m\u001b[43mpost\u001b[49m\u001b[43m,\u001b[49m\u001b[43m \u001b[49m\u001b[43mendpoint\u001b[49m\u001b[43m,\u001b[49m\u001b[43m \u001b[49m\u001b[43mas_json\u001b[49m\u001b[43m,\u001b[49m\n\u001b[1;32m    154\u001b[0m \u001b[43m                         \u001b[49m\u001b[43mparams\u001b[49m\u001b[38;5;241;43m=\u001b[39;49m\u001b[43mparams\u001b[49m\u001b[43m,\u001b[49m\u001b[43m \u001b[49m\u001b[43mdata\u001b[49m\u001b[38;5;241;43m=\u001b[39;49m\u001b[43mbody\u001b[49m\u001b[43m,\u001b[49m\n\u001b[1;32m    155\u001b[0m \u001b[43m                         \u001b[49m\u001b[43mtimeout\u001b[49m\u001b[38;5;241;43m=\u001b[39;49m\u001b[38;5;28;43mself\u001b[39;49m\u001b[38;5;241;43m.\u001b[39;49m\u001b[43mconfig\u001b[49m\u001b[38;5;241;43m.\u001b[39;49m\u001b[43mconnection_timeout_seconds\u001b[49m\u001b[43m)\u001b[49m\n",
      "File \u001b[0;32m~/anaconda3/envs/s/lib/python3.11/site-packages/typesense/api_call.py:116\u001b[0m, in \u001b[0;36mApiCall.make_request\u001b[0;34m(self, fn, endpoint, as_json, **kwargs)\u001b[0m\n\u001b[1;32m    114\u001b[0m             error_message \u001b[38;5;241m=\u001b[39m \u001b[38;5;124m'\u001b[39m\u001b[38;5;124mAPI error.\u001b[39m\u001b[38;5;124m'\u001b[39m\n\u001b[1;32m    115\u001b[0m         \u001b[38;5;66;03m# Raised exception will be caught and retried\u001b[39;00m\n\u001b[0;32m--> 116\u001b[0m         \u001b[38;5;28;01mraise\u001b[39;00m ApiCall\u001b[38;5;241m.\u001b[39mget_exception(r\u001b[38;5;241m.\u001b[39mstatus_code)(r\u001b[38;5;241m.\u001b[39mstatus_code, error_message)\n\u001b[1;32m    118\u001b[0m     \u001b[38;5;28;01mreturn\u001b[39;00m r\u001b[38;5;241m.\u001b[39mjson() \u001b[38;5;28;01mif\u001b[39;00m as_json \u001b[38;5;28;01melse\u001b[39;00m r\u001b[38;5;241m.\u001b[39mtext\n\u001b[1;32m    119\u001b[0m \u001b[38;5;28;01mexcept\u001b[39;00m (requests\u001b[38;5;241m.\u001b[39mexceptions\u001b[38;5;241m.\u001b[39mTimeout, requests\u001b[38;5;241m.\u001b[39mexceptions\u001b[38;5;241m.\u001b[39mConnectionError, requests\u001b[38;5;241m.\u001b[39mexceptions\u001b[38;5;241m.\u001b[39mHTTPError,\n\u001b[1;32m    120\u001b[0m         requests\u001b[38;5;241m.\u001b[39mexceptions\u001b[38;5;241m.\u001b[39mRequestException, requests\u001b[38;5;241m.\u001b[39mexceptions\u001b[38;5;241m.\u001b[39mSSLError,\n\u001b[1;32m    121\u001b[0m         HTTPStatus0Error, ServerError, ServiceUnavailable) \u001b[38;5;28;01mas\u001b[39;00m e:\n\u001b[1;32m    122\u001b[0m     \u001b[38;5;66;03m# Catch the exception and retry\u001b[39;00m\n",
      "\u001b[0;31mObjectAlreadyExists\u001b[0m: [Errno 409] A collection with name `books` already exists."
     ]
    }
   ],
   "source": [
    "books_schema = {\n",
    "  'name': 'books',\n",
    "  'fields': [\n",
    "    {'name': 'title', 'type': 'string' },\n",
    "    {'name': 'authors', 'type': 'string[]', 'facet': True },\n",
    "\n",
    "    {'name': 'publication_year', 'type': 'int32', 'facet': True },\n",
    "    {'name': 'ratings_count', 'type': 'int32' },\n",
    "    {'name': 'average_rating', 'type': 'float' }\n",
    "  ],\n",
    "  'default_sorting_field': 'ratings_count'\n",
    "}\n",
    "\n",
    "create_response = client.collections.create(books_schema)"
   ]
  },
  {
   "cell_type": "code",
   "execution_count": 10,
   "id": "31fb04a0-0aa8-4db5-b93c-5cb131b28580",
   "metadata": {},
   "outputs": [],
   "source": [
    "with open(\"./books.jsonl\") as jsonl_file:\n",
    "    client.collections[\"books\"].documents.import_(jsonl_file.read().encode(\"utf-8\"))"
   ]
  },
  {
   "cell_type": "code",
   "execution_count": 14,
   "id": "ca843996-6ab6-4f25-a222-aa7f404fc657",
   "metadata": {},
   "outputs": [
    {
     "data": {
      "text/plain": [
       "{'facet_counts': [],\n",
       " 'found': 1,\n",
       " 'hits': [{'document': {'authors': ['J.K. Rowling', ' Mary GrandPré'],\n",
       "    'average_rating': 4.44,\n",
       "    'id': '2',\n",
       "    'image_url': 'https://images.gr-assets.com/books/1474154022m/3.jpg',\n",
       "    'publication_year': 1997,\n",
       "    'ratings_count': 4602479,\n",
       "    'title': \"Harry Potter and the Philosopher's Stone\"},\n",
       "   'highlight': {'title': {'matched_tokens': ['Harry', 'Potter'],\n",
       "     'snippet': \"<mark>Harry</mark> <mark>Potter</mark> and the Philosopher's Stone\"}},\n",
       "   'highlights': [{'field': 'title',\n",
       "     'matched_tokens': ['Harry', 'Potter'],\n",
       "     'snippet': \"<mark>Harry</mark> <mark>Potter</mark> and the Philosopher's Stone\"}],\n",
       "   'text_match': 1157451471441100921,\n",
       "   'text_match_info': {'best_field_score': '2211897868288',\n",
       "    'best_field_weight': 15,\n",
       "    'fields_matched': 1,\n",
       "    'score': '1157451471441100921',\n",
       "    'tokens_matched': 2}}],\n",
       " 'out_of': 9979,\n",
       " 'page': 1,\n",
       " 'request_params': {'collection_name': 'books',\n",
       "  'per_page': 10,\n",
       "  'q': 'harry potter'},\n",
       " 'search_cutoff': False,\n",
       " 'search_time_ms': 0}"
      ]
     },
     "execution_count": 14,
     "metadata": {},
     "output_type": "execute_result"
    }
   ],
   "source": [
    "search_parameters = {\n",
    "  'q'         : 'harry potter',\n",
    "  'query_by'  : 'title',\n",
    "  'filter_by' : 'publication_year:<1998',\n",
    "  'sort_by'   : 'ratings_count:desc'\n",
    "}\n",
    "client.collections['books'].documents.search(search_parameters)"
   ]
  },
  {
   "cell_type": "code",
   "execution_count": 6,
   "id": "9de6d03c-3053-400f-9f86-2c5326738662",
   "metadata": {},
   "outputs": [],
   "source": [
    "search_parameters = {\n",
    "  'q'         : 'harry potter',\n",
    "  'query_by'  : 'title',\n",
    "  'facet_by'  : 'authors',\n",
    "  'sort_by'   : 'average_rating:desc'\n",
    "}\n",
    "\n",
    "res = client.collections['books'].documents.search(search_parameters)"
   ]
  },
  {
   "cell_type": "code",
   "execution_count": 7,
   "id": "10f4cf71-e32c-4fdf-9424-e8fe1413c31f",
   "metadata": {},
   "outputs": [],
   "source": [
    "from IPython.display import JSON"
   ]
  },
  {
   "cell_type": "code",
   "execution_count": 8,
   "id": "55f4b0c6-821e-4f0d-9b5f-3ddd39a01f5f",
   "metadata": {},
   "outputs": [
    {
     "data": {
      "application/json": {
       "facet_counts": [
        {
         "counts": [
          {
           "count": 12,
           "highlighted": " J.K. Rowling",
           "value": " J.K. Rowling"
          },
          {
           "count": 8,
           "highlighted": " Mary GrandPré",
           "value": " Mary GrandPré"
          },
          {
           "count": 1,
           "highlighted": "Bob McCabe",
           "value": "Bob McCabe"
          },
          {
           "count": 1,
           "highlighted": " Rufus Beck",
           "value": " Rufus Beck"
          },
          {
           "count": 1,
           "highlighted": "Brian Sibley",
           "value": "Brian Sibley"
          },
          {
           "count": 1,
           "highlighted": "David Colbert",
           "value": "David Colbert"
          },
          {
           "count": 1,
           "highlighted": "David Baggett",
           "value": "David Baggett"
          },
          {
           "count": 1,
           "highlighted": "Melissa Anelli",
           "value": "Melissa Anelli"
          },
          {
           "count": 1,
           "highlighted": " Shawn E. Klein",
           "value": " Shawn E. Klein"
          },
          {
           "count": 1,
           "highlighted": "John   Williams",
           "value": "John   Williams"
          }
         ],
         "field_name": "authors",
         "sampled": false,
         "stats": {
          "total_values": 12
         }
        }
       ],
       "found": 17,
       "hits": [
        {
         "document": {
          "authors": [
           "J.K. Rowling"
          ],
          "average_rating": 4.74,
          "id": "422",
          "image_url": "https://images.gr-assets.com/books/1392579059m/862041.jpg",
          "publication_year": 1998,
          "ratings_count": 190050,
          "title": "Complete Harry Potter Boxed Set"
         },
         "highlight": {
          "title": {
           "matched_tokens": [
            "Harry",
            "Potter"
           ],
           "snippet": "Complete <mark>Harry</mark> <mark>Potter</mark> Boxed Set"
          }
         },
         "highlights": [
          {
           "field": "title",
           "matched_tokens": [
            "Harry",
            "Potter"
           ],
           "snippet": "Complete <mark>Harry</mark> <mark>Potter</mark> Boxed Set"
          }
         ],
         "text_match": 1157451471441100800,
         "text_match_info": {
          "best_field_score": "2211897868288",
          "best_field_weight": 15,
          "fields_matched": 1,
          "score": "1157451471441100921",
          "tokens_matched": 2
         }
        },
        {
         "document": {
          "authors": [
           "J.K. Rowling"
          ],
          "average_rating": 4.73,
          "id": "3753",
          "image_url": "https://images.gr-assets.com/books/1328867351m/10.jpg",
          "publication_year": 2005,
          "ratings_count": 24618,
          "title": "Harry Potter Collection (Harry Potter, #1-6)"
         },
         "highlight": {
          "title": {
           "matched_tokens": [
            "Harry",
            "Potter",
            "Harry",
            "Potter"
           ],
           "snippet": "<mark>Harry</mark> <mark>Potter</mark> Collection (<mark>Harry</mark> <mark>Potter</mark>, #1-6)"
          }
         },
         "highlights": [
          {
           "field": "title",
           "matched_tokens": [
            "Harry",
            "Potter",
            "Harry",
            "Potter"
           ],
           "snippet": "<mark>Harry</mark> <mark>Potter</mark> Collection (<mark>Harry</mark> <mark>Potter</mark>, #1-6)"
          }
         ],
         "text_match": 1157451471441100800,
         "text_match_info": {
          "best_field_score": "2211897868288",
          "best_field_weight": 15,
          "fields_matched": 1,
          "score": "1157451471441100921",
          "tokens_matched": 2
         }
        },
        {
         "document": {
          "authors": [
           "J.K. Rowling",
           " Mary GrandPré"
          ],
          "average_rating": 4.66,
          "id": "2101",
          "image_url": "https://s.gr-assets.com/assets/nophoto/book/111x148-bcc042a9c91a29c1d680899eff700a03.png",
          "publication_year": 1999,
          "ratings_count": 43929,
          "title": "Harry Potter Boxed Set Books 1-4"
         },
         "highlight": {
          "title": {
           "matched_tokens": [
            "Harry",
            "Potter"
           ],
           "snippet": "<mark>Harry</mark> <mark>Potter</mark> Boxed Set Books 1-4"
          }
         },
         "highlights": [
          {
           "field": "title",
           "matched_tokens": [
            "Harry",
            "Potter"
           ],
           "snippet": "<mark>Harry</mark> <mark>Potter</mark> Boxed Set Books 1-4"
          }
         ],
         "text_match": 1157451471441100800,
         "text_match_info": {
          "best_field_score": "2211897868288",
          "best_field_weight": 15,
          "fields_matched": 1,
          "score": "1157451471441100921",
          "tokens_matched": 2
         }
        },
        {
         "document": {
          "authors": [
           "John   Williams"
          ],
          "average_rating": 4.61,
          "id": "3054",
          "image_url": "https://s.gr-assets.com/assets/nophoto/book/111x148-bcc042a9c91a29c1d680899eff700a03.png",
          "publication_year": 2003,
          "ratings_count": 29409,
          "title": "Harry Potter and the Chamber of Secrets: Sheet Music for Flute with C.D"
         },
         "highlight": {
          "title": {
           "matched_tokens": [
            "Harry",
            "Potter"
           ],
           "snippet": "<mark>Harry</mark> <mark>Potter</mark> and the Chamber of Secrets: Sheet Music for Flute with C.D"
          }
         },
         "highlights": [
          {
           "field": "title",
           "matched_tokens": [
            "Harry",
            "Potter"
           ],
           "snippet": "<mark>Harry</mark> <mark>Potter</mark> and the Chamber of Secrets: Sheet Music for Flute with C.D"
          }
         ],
         "text_match": 1157451471441100800,
         "text_match_info": {
          "best_field_score": "2211897868288",
          "best_field_weight": 15,
          "fields_matched": 1,
          "score": "1157451471441100921",
          "tokens_matched": 2
         }
        },
        {
         "document": {
          "authors": [
           "J.K. Rowling",
           " Mary GrandPré"
          ],
          "average_rating": 4.61,
          "id": "25",
          "image_url": "https://images.gr-assets.com/books/1474171184m/136251.jpg",
          "publication_year": 2007,
          "ratings_count": 1746574,
          "title": "Harry Potter and the Deathly Hallows"
         },
         "highlight": {
          "title": {
           "matched_tokens": [
            "Harry",
            "Potter"
           ],
           "snippet": "<mark>Harry</mark> <mark>Potter</mark> and the Deathly Hallows"
          }
         },
         "highlights": [
          {
           "field": "title",
           "matched_tokens": [
            "Harry",
            "Potter"
           ],
           "snippet": "<mark>Harry</mark> <mark>Potter</mark> and the Deathly Hallows"
          }
         ],
         "text_match": 1157451471441100800,
         "text_match_info": {
          "best_field_score": "2211897868288",
          "best_field_weight": 15,
          "fields_matched": 1,
          "score": "1157451471441100921",
          "tokens_matched": 2
         }
        },
        {
         "document": {
          "authors": [
           "Bob McCabe"
          ],
          "average_rating": 4.56,
          "id": "3736",
          "image_url": "https://images.gr-assets.com/books/1317345385m/10785687.jpg",
          "publication_year": 2011,
          "ratings_count": 27361,
          "title": "Harry Potter Page to Screen: The Complete Filmmaking Journey"
         },
         "highlight": {
          "title": {
           "matched_tokens": [
            "Harry",
            "Potter"
           ],
           "snippet": "<mark>Harry</mark> <mark>Potter</mark> Page to Screen: The Complete Filmmaking Journey"
          }
         },
         "highlights": [
          {
           "field": "title",
           "matched_tokens": [
            "Harry",
            "Potter"
           ],
           "snippet": "<mark>Harry</mark> <mark>Potter</mark> Page to Screen: The Complete Filmmaking Journey"
          }
         ],
         "text_match": 1157451471441100800,
         "text_match_info": {
          "best_field_score": "2211897868288",
          "best_field_weight": 15,
          "fields_matched": 1,
          "score": "1157451471441100921",
          "tokens_matched": 2
         }
        },
        {
         "document": {
          "authors": [
           "J.K. Rowling",
           " Mary GrandPré"
          ],
          "average_rating": 4.54,
          "id": "27",
          "image_url": "https://images.gr-assets.com/books/1361039191m/1.jpg",
          "publication_year": 2005,
          "ratings_count": 1678823,
          "title": "Harry Potter and the Half-Blood Prince"
         },
         "highlight": {
          "title": {
           "matched_tokens": [
            "Harry",
            "Potter"
           ],
           "snippet": "<mark>Harry</mark> <mark>Potter</mark> and the Half-Blood Prince"
          }
         },
         "highlights": [
          {
           "field": "title",
           "matched_tokens": [
            "Harry",
            "Potter"
           ],
           "snippet": "<mark>Harry</mark> <mark>Potter</mark> and the Half-Blood Prince"
          }
         ],
         "text_match": 1157451471441100800,
         "text_match_info": {
          "best_field_score": "2211897868288",
          "best_field_weight": 15,
          "fields_matched": 1,
          "score": "1157451471441100921",
          "tokens_matched": 2
         }
        },
        {
         "document": {
          "authors": [
           "J.K. Rowling",
           " Mary GrandPré"
          ],
          "average_rating": 4.53,
          "id": "24",
          "image_url": "https://images.gr-assets.com/books/1361482611m/6.jpg",
          "publication_year": 2000,
          "ratings_count": 1753043,
          "title": "Harry Potter and the Goblet of Fire"
         },
         "highlight": {
          "title": {
           "matched_tokens": [
            "Harry",
            "Potter"
           ],
           "snippet": "<mark>Harry</mark> <mark>Potter</mark> and the Goblet of Fire"
          }
         },
         "highlights": [
          {
           "field": "title",
           "matched_tokens": [
            "Harry",
            "Potter"
           ],
           "snippet": "<mark>Harry</mark> <mark>Potter</mark> and the Goblet of Fire"
          }
         ],
         "text_match": 1157451471441100800,
         "text_match_info": {
          "best_field_score": "2211897868288",
          "best_field_weight": 15,
          "fields_matched": 1,
          "score": "1157451471441100921",
          "tokens_matched": 2
         }
        },
        {
         "document": {
          "authors": [
           "J.K. Rowling",
           " Mary GrandPré",
           " Rufus Beck"
          ],
          "average_rating": 4.53,
          "id": "18",
          "image_url": "https://images.gr-assets.com/books/1499277281m/5.jpg",
          "publication_year": 1999,
          "ratings_count": 1832823,
          "title": "Harry Potter and the Prisoner of Azkaban"
         },
         "highlight": {
          "title": {
           "matched_tokens": [
            "Harry",
            "Potter"
           ],
           "snippet": "<mark>Harry</mark> <mark>Potter</mark> and the Prisoner of Azkaban"
          }
         },
         "highlights": [
          {
           "field": "title",
           "matched_tokens": [
            "Harry",
            "Potter"
           ],
           "snippet": "<mark>Harry</mark> <mark>Potter</mark> and the Prisoner of Azkaban"
          }
         ],
         "text_match": 1157451471441100800,
         "text_match_info": {
          "best_field_score": "2211897868288",
          "best_field_weight": 15,
          "fields_matched": 1,
          "score": "1157451471441100921",
          "tokens_matched": 2
         }
        },
        {
         "document": {
          "authors": [
           "Brian Sibley"
          ],
          "average_rating": 4.48,
          "id": "2001",
          "image_url": "https://images.gr-assets.com/books/1464452934m/7952502.jpg",
          "publication_year": 2010,
          "ratings_count": 45081,
          "title": "Harry Potter: Film Wizardry"
         },
         "highlight": {
          "title": {
           "matched_tokens": [
            "Harry",
            "Potter"
           ],
           "snippet": "<mark>Harry</mark> <mark>Potter</mark>: Film Wizardry"
          }
         },
         "highlights": [
          {
           "field": "title",
           "matched_tokens": [
            "Harry",
            "Potter"
           ],
           "snippet": "<mark>Harry</mark> <mark>Potter</mark>: Film Wizardry"
          }
         ],
         "text_match": 1157451471441100800,
         "text_match_info": {
          "best_field_score": "2211897868288",
          "best_field_weight": 15,
          "fields_matched": 1,
          "score": "1157451471441100921",
          "tokens_matched": 2
         }
        }
       ],
       "out_of": 9979,
       "page": 1,
       "request_params": {
        "collection_name": "books",
        "per_page": 10,
        "q": "harry potter"
       },
       "search_cutoff": false,
       "search_time_ms": 2
      },
      "text/plain": [
       "<IPython.core.display.JSON object>"
      ]
     },
     "execution_count": 8,
     "metadata": {
      "application/json": {
       "expanded": false,
       "root": "root"
      }
     },
     "output_type": "execute_result"
    }
   ],
   "source": [
    "JSON(res, expanded=False)"
   ]
  },
  {
   "cell_type": "code",
   "execution_count": 17,
   "id": "cf1058c6-0523-4ef3-a140-3d4858c18494",
   "metadata": {},
   "outputs": [
    {
     "data": {
      "application/json": {
       "created_at": 1692941723,
       "default_sorting_field": "ratings_count",
       "enable_nested_fields": false,
       "fields": [
        {
         "facet": false,
         "index": true,
         "infix": false,
         "locale": "",
         "name": "title",
         "optional": false,
         "sort": false,
         "type": "string"
        },
        {
         "facet": true,
         "index": true,
         "infix": false,
         "locale": "",
         "name": "authors",
         "optional": false,
         "sort": false,
         "type": "string[]"
        },
        {
         "facet": true,
         "index": true,
         "infix": false,
         "locale": "",
         "name": "publication_year",
         "optional": false,
         "sort": true,
         "type": "int32"
        },
        {
         "facet": false,
         "index": true,
         "infix": false,
         "locale": "",
         "name": "ratings_count",
         "optional": false,
         "sort": true,
         "type": "int32"
        },
        {
         "facet": false,
         "index": true,
         "infix": false,
         "locale": "",
         "name": "average_rating",
         "optional": false,
         "sort": true,
         "type": "float"
        }
       ],
       "name": "books",
       "num_documents": 9979,
       "symbols_to_index": [],
       "token_separators": []
      },
      "text/plain": [
       "<IPython.core.display.JSON object>"
      ]
     },
     "execution_count": 17,
     "metadata": {
      "application/json": {
       "expanded": false,
       "root": "root"
      }
     },
     "output_type": "execute_result"
    }
   ],
   "source": [
    "JSON(client.collections['books'].retrieve())"
   ]
  },
  {
   "cell_type": "code",
   "execution_count": null,
   "id": "b1445158-6d66-49e5-a838-d3ff68cc7997",
   "metadata": {},
   "outputs": [],
   "source": []
  }
 ],
 "metadata": {
  "kernelspec": {
   "display_name": "Python 3 (ipykernel)",
   "language": "python",
   "name": "python3"
  },
  "language_info": {
   "codemirror_mode": {
    "name": "ipython",
    "version": 3
   },
   "file_extension": ".py",
   "mimetype": "text/x-python",
   "name": "python",
   "nbconvert_exporter": "python",
   "pygments_lexer": "ipython3",
   "version": "3.11.4"
  }
 },
 "nbformat": 4,
 "nbformat_minor": 5
}
