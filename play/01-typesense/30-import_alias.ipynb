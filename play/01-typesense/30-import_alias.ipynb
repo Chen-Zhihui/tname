{
 "cells": [
  {
   "cell_type": "code",
   "execution_count": null,
   "id": "f1c2e220-b972-40ff-b5c3-fe27b2ca1a02",
   "metadata": {},
   "outputs": [],
   "source": [
    "import typesense\n",
    "\n",
    "schema_name = \"targetname\"\n",
    "data_file = \"./alias.jsonl\""
   ]
  },
  {
   "cell_type": "code",
   "execution_count": null,
   "id": "433e5703-4770-421c-a721-3d0b5743d72f",
   "metadata": {},
   "outputs": [],
   "source": [
    "client = typesense.Client({\n",
    "  'api_key': 'xyz',\n",
    "  'nodes': [{\n",
    "    'host': 'localhost',\n",
    "    'port': '8108',\n",
    "    'protocol': 'http'\n",
    "  }],\n",
    "  'connection_timeout_seconds': 2\n",
    "})"
   ]
  },
  {
   "cell_type": "code",
   "execution_count": null,
   "id": "a73082fd-b367-4d57-8694-3eabffb199c1",
   "metadata": {
    "scrolled": true
   },
   "outputs": [],
   "source": [
    "targetname_schema = {\n",
    "  'name': f'{schema_name}',\n",
    "  'fields': [\n",
    "    {'name': 'country', 'type': 'string', 'facet': True },\n",
    "    {'name': 'language', 'type': 'string', 'facet': True },\n",
    "    {'name': 'target_type', 'type': 'string', 'facet': True },\n",
    "    {'name': 'alias_id', 'type': 'string' },\n",
    "    {'name': 'target_id', 'type': 'string' },\n",
    "    {'name': 'alias', 'type': 'string', \"sort\" : True },\n",
    "    {'name': 'name', 'type': 'string', \"sort\" : True  },\n",
    "    {'name': 'location', 'type': 'geopoint'},\n",
    "  ],\n",
    "  'default_sorting_field': 'alias'\n",
    "}\n",
    "\n",
    "create_response = client.collections.create(targetname_schema)"
   ]
  },
  {
   "cell_type": "code",
   "execution_count": null,
   "id": "d131126a-d2d3-47cd-bf8f-eb26277fb8b3",
   "metadata": {},
   "outputs": [],
   "source": [
    "# import json lines\n",
    "with open(data_file) as jsonl_file:\n",
    "    client.collections[f'{schema_name}'].documents.import_(jsonl_file.read().encode(\"utf-8\"))"
   ]
  },
  {
   "cell_type": "code",
   "execution_count": null,
   "id": "efa05ca8-c41a-489b-8fc3-4bc473fe18d2",
   "metadata": {},
   "outputs": [],
   "source": [
    "# retrieve information for collection\n",
    "client.collections[f'{schema_name}'].retrieve()"
   ]
  },
  {
   "cell_type": "code",
   "execution_count": null,
   "id": "86aca3e5-0930-4c17-b714-1425ef394a6b",
   "metadata": {},
   "outputs": [],
   "source": [
    "# drop a collection\n",
    "# client.collections[f'{schema_name}'].delete()"
   ]
  }
 ],
 "metadata": {
  "kernelspec": {
   "display_name": "Python 3 (ipykernel)",
   "language": "python",
   "name": "python3"
  },
  "language_info": {
   "codemirror_mode": {
    "name": "ipython",
    "version": 3
   },
   "file_extension": ".py",
   "mimetype": "text/x-python",
   "name": "python",
   "nbconvert_exporter": "python",
   "pygments_lexer": "ipython3",
   "version": "3.11.4"
  }
 },
 "nbformat": 4,
 "nbformat_minor": 5
}
