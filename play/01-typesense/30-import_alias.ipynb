{
 "cells": [
  {
   "cell_type": "code",
   "execution_count": 1,
   "id": "f1c2e220-b972-40ff-b5c3-fe27b2ca1a02",
   "metadata": {},
   "outputs": [],
   "source": [
    "import typesense\n",
    "\n",
    "schema_name = \"targetname\"\n",
    "data_file = \"./alias.jsonl\""
   ]
  },
  {
   "cell_type": "code",
   "execution_count": 2,
   "id": "433e5703-4770-421c-a721-3d0b5743d72f",
   "metadata": {},
   "outputs": [],
   "source": [
    "client = typesense.Client({\n",
    "  'api_key': 'xyz',\n",
    "  'nodes': [{\n",
    "    'host': 'localhost',\n",
    "    'port': '8108',\n",
    "    'protocol': 'http'\n",
    "  }],\n",
    "  'connection_timeout_seconds': 2\n",
    "})"
   ]
  },
  {
   "cell_type": "code",
   "execution_count": 3,
   "id": "a73082fd-b367-4d57-8694-3eabffb199c1",
   "metadata": {
    "scrolled": true
   },
   "outputs": [
    {
     "ename": "ObjectAlreadyExists",
     "evalue": "[Errno 409] A collection with name `targetname` already exists.",
     "output_type": "error",
     "traceback": [
      "\u001b[0;31m---------------------------------------------------------------------------\u001b[0m",
      "\u001b[0;31mObjectAlreadyExists\u001b[0m                       Traceback (most recent call last)",
      "Cell \u001b[0;32mIn[3], line 16\u001b[0m\n\u001b[1;32m      1\u001b[0m targetname_schema \u001b[38;5;241m=\u001b[39m {\n\u001b[1;32m      2\u001b[0m   \u001b[38;5;124m'\u001b[39m\u001b[38;5;124mname\u001b[39m\u001b[38;5;124m'\u001b[39m: \u001b[38;5;124mf\u001b[39m\u001b[38;5;124m'\u001b[39m\u001b[38;5;132;01m{\u001b[39;00mschema_name\u001b[38;5;132;01m}\u001b[39;00m\u001b[38;5;124m'\u001b[39m,\n\u001b[1;32m      3\u001b[0m   \u001b[38;5;124m'\u001b[39m\u001b[38;5;124mfields\u001b[39m\u001b[38;5;124m'\u001b[39m: [\n\u001b[0;32m   (...)\u001b[0m\n\u001b[1;32m     13\u001b[0m   \u001b[38;5;124m'\u001b[39m\u001b[38;5;124mdefault_sorting_field\u001b[39m\u001b[38;5;124m'\u001b[39m: \u001b[38;5;124m'\u001b[39m\u001b[38;5;124malias\u001b[39m\u001b[38;5;124m'\u001b[39m\n\u001b[1;32m     14\u001b[0m }\n\u001b[0;32m---> 16\u001b[0m create_response \u001b[38;5;241m=\u001b[39m \u001b[43mclient\u001b[49m\u001b[38;5;241;43m.\u001b[39;49m\u001b[43mcollections\u001b[49m\u001b[38;5;241;43m.\u001b[39;49m\u001b[43mcreate\u001b[49m\u001b[43m(\u001b[49m\u001b[43mtargetname_schema\u001b[49m\u001b[43m)\u001b[49m\n",
      "File \u001b[0;32m~/anaconda3/envs/s/lib/python3.11/site-packages/typesense/collections.py:18\u001b[0m, in \u001b[0;36mCollections.create\u001b[0;34m(self, schema)\u001b[0m\n\u001b[1;32m     17\u001b[0m \u001b[38;5;28;01mdef\u001b[39;00m \u001b[38;5;21mcreate\u001b[39m(\u001b[38;5;28mself\u001b[39m, schema):\n\u001b[0;32m---> 18\u001b[0m     \u001b[38;5;28;01mreturn\u001b[39;00m \u001b[38;5;28;43mself\u001b[39;49m\u001b[38;5;241;43m.\u001b[39;49m\u001b[43mapi_call\u001b[49m\u001b[38;5;241;43m.\u001b[39;49m\u001b[43mpost\u001b[49m\u001b[43m(\u001b[49m\u001b[43mCollections\u001b[49m\u001b[38;5;241;43m.\u001b[39;49m\u001b[43mRESOURCE_PATH\u001b[49m\u001b[43m,\u001b[49m\u001b[43m \u001b[49m\u001b[43mschema\u001b[49m\u001b[43m)\u001b[49m\n",
      "File \u001b[0;32m~/anaconda3/envs/s/lib/python3.11/site-packages/typesense/api_call.py:153\u001b[0m, in \u001b[0;36mApiCall.post\u001b[0;34m(self, endpoint, body, params, as_json)\u001b[0m\n\u001b[1;32m    151\u001b[0m params \u001b[38;5;241m=\u001b[39m params \u001b[38;5;129;01mor\u001b[39;00m {}\n\u001b[1;32m    152\u001b[0m ApiCall\u001b[38;5;241m.\u001b[39mnormalize_params(params)\n\u001b[0;32m--> 153\u001b[0m \u001b[38;5;28;01mreturn\u001b[39;00m \u001b[38;5;28;43mself\u001b[39;49m\u001b[38;5;241;43m.\u001b[39;49m\u001b[43mmake_request\u001b[49m\u001b[43m(\u001b[49m\u001b[43mrequests\u001b[49m\u001b[38;5;241;43m.\u001b[39;49m\u001b[43mpost\u001b[49m\u001b[43m,\u001b[49m\u001b[43m \u001b[49m\u001b[43mendpoint\u001b[49m\u001b[43m,\u001b[49m\u001b[43m \u001b[49m\u001b[43mas_json\u001b[49m\u001b[43m,\u001b[49m\n\u001b[1;32m    154\u001b[0m \u001b[43m                         \u001b[49m\u001b[43mparams\u001b[49m\u001b[38;5;241;43m=\u001b[39;49m\u001b[43mparams\u001b[49m\u001b[43m,\u001b[49m\u001b[43m \u001b[49m\u001b[43mdata\u001b[49m\u001b[38;5;241;43m=\u001b[39;49m\u001b[43mbody\u001b[49m\u001b[43m,\u001b[49m\n\u001b[1;32m    155\u001b[0m \u001b[43m                         \u001b[49m\u001b[43mtimeout\u001b[49m\u001b[38;5;241;43m=\u001b[39;49m\u001b[38;5;28;43mself\u001b[39;49m\u001b[38;5;241;43m.\u001b[39;49m\u001b[43mconfig\u001b[49m\u001b[38;5;241;43m.\u001b[39;49m\u001b[43mconnection_timeout_seconds\u001b[49m\u001b[43m)\u001b[49m\n",
      "File \u001b[0;32m~/anaconda3/envs/s/lib/python3.11/site-packages/typesense/api_call.py:116\u001b[0m, in \u001b[0;36mApiCall.make_request\u001b[0;34m(self, fn, endpoint, as_json, **kwargs)\u001b[0m\n\u001b[1;32m    114\u001b[0m             error_message \u001b[38;5;241m=\u001b[39m \u001b[38;5;124m'\u001b[39m\u001b[38;5;124mAPI error.\u001b[39m\u001b[38;5;124m'\u001b[39m\n\u001b[1;32m    115\u001b[0m         \u001b[38;5;66;03m# Raised exception will be caught and retried\u001b[39;00m\n\u001b[0;32m--> 116\u001b[0m         \u001b[38;5;28;01mraise\u001b[39;00m ApiCall\u001b[38;5;241m.\u001b[39mget_exception(r\u001b[38;5;241m.\u001b[39mstatus_code)(r\u001b[38;5;241m.\u001b[39mstatus_code, error_message)\n\u001b[1;32m    118\u001b[0m     \u001b[38;5;28;01mreturn\u001b[39;00m r\u001b[38;5;241m.\u001b[39mjson() \u001b[38;5;28;01mif\u001b[39;00m as_json \u001b[38;5;28;01melse\u001b[39;00m r\u001b[38;5;241m.\u001b[39mtext\n\u001b[1;32m    119\u001b[0m \u001b[38;5;28;01mexcept\u001b[39;00m (requests\u001b[38;5;241m.\u001b[39mexceptions\u001b[38;5;241m.\u001b[39mTimeout, requests\u001b[38;5;241m.\u001b[39mexceptions\u001b[38;5;241m.\u001b[39mConnectionError, requests\u001b[38;5;241m.\u001b[39mexceptions\u001b[38;5;241m.\u001b[39mHTTPError,\n\u001b[1;32m    120\u001b[0m         requests\u001b[38;5;241m.\u001b[39mexceptions\u001b[38;5;241m.\u001b[39mRequestException, requests\u001b[38;5;241m.\u001b[39mexceptions\u001b[38;5;241m.\u001b[39mSSLError,\n\u001b[1;32m    121\u001b[0m         HTTPStatus0Error, ServerError, ServiceUnavailable) \u001b[38;5;28;01mas\u001b[39;00m e:\n\u001b[1;32m    122\u001b[0m     \u001b[38;5;66;03m# Catch the exception and retry\u001b[39;00m\n",
      "\u001b[0;31mObjectAlreadyExists\u001b[0m: [Errno 409] A collection with name `targetname` already exists."
     ]
    }
   ],
   "source": [
    "targetname_schema = {\n",
    "  'name': f'{schema_name}',\n",
    "  'fields': [\n",
    "    {'name': 'country', 'type': 'string', 'facet': True, 'locale': 'zh' },\n",
    "    {'name': 'language', 'type': 'string', 'facet': True, 'locale': 'zh'  },\n",
    "    {'name': 'target_type', 'type': 'string', 'facet': True, 'locale': 'zh'  },\n",
    "    {'name': 'alias_id', 'type': 'string' },\n",
    "    {'name': 'target_id', 'type': 'string' },\n",
    "    {'name': 'alias', 'type': 'string', \"sort\" : True, 'locale': 'zh'  },\n",
    "    {'name': 'name', 'type': 'string', \"sort\" : True, 'locale': 'zh'   },\n",
    "    {'name': 'location', 'type': 'geopoint'},\n",
    "  ],\n",
    "  'default_sorting_field': 'alias'\n",
    "}\n",
    "\n",
    "create_response = client.collections.create(targetname_schema)"
   ]
  },
  {
   "cell_type": "code",
   "execution_count": 4,
   "id": "4d6cb840",
   "metadata": {},
   "outputs": [
    {
     "name": "stdout",
     "output_type": "stream",
     "text": [
      "/mnt/e/LLM/tname/play/01-typesense\n"
     ]
    }
   ],
   "source": [
    "import pathlib\n",
    "print(pathlib.Path(\"./\").absolute())"
   ]
  },
  {
   "cell_type": "code",
   "execution_count": 5,
   "id": "d131126a-d2d3-47cd-bf8f-eb26277fb8b3",
   "metadata": {},
   "outputs": [],
   "source": [
    "# import json lines\n",
    "with open(data_file) as jsonl_file:\n",
    "    client.collections[f'{schema_name}'].documents.import_(jsonl_file.read().encode(\"utf-8\"))"
   ]
  },
  {
   "cell_type": "code",
   "execution_count": 6,
   "id": "efa05ca8-c41a-489b-8fc3-4bc473fe18d2",
   "metadata": {},
   "outputs": [
    {
     "data": {
      "text/plain": [
       "{'created_at': 1693374033,\n",
       " 'default_sorting_field': 'alias',\n",
       " 'enable_nested_fields': False,\n",
       " 'fields': [{'facet': True,\n",
       "   'index': True,\n",
       "   'infix': False,\n",
       "   'locale': 'zh',\n",
       "   'name': 'country',\n",
       "   'optional': False,\n",
       "   'sort': False,\n",
       "   'type': 'string'},\n",
       "  {'facet': True,\n",
       "   'index': True,\n",
       "   'infix': False,\n",
       "   'locale': 'zh',\n",
       "   'name': 'language',\n",
       "   'optional': False,\n",
       "   'sort': False,\n",
       "   'type': 'string'},\n",
       "  {'facet': True,\n",
       "   'index': True,\n",
       "   'infix': False,\n",
       "   'locale': 'zh',\n",
       "   'name': 'target_type',\n",
       "   'optional': False,\n",
       "   'sort': False,\n",
       "   'type': 'string'},\n",
       "  {'facet': False,\n",
       "   'index': True,\n",
       "   'infix': False,\n",
       "   'locale': '',\n",
       "   'name': 'alias_id',\n",
       "   'optional': False,\n",
       "   'sort': False,\n",
       "   'type': 'string'},\n",
       "  {'facet': False,\n",
       "   'index': True,\n",
       "   'infix': False,\n",
       "   'locale': '',\n",
       "   'name': 'target_id',\n",
       "   'optional': False,\n",
       "   'sort': False,\n",
       "   'type': 'string'},\n",
       "  {'facet': False,\n",
       "   'index': True,\n",
       "   'infix': False,\n",
       "   'locale': 'zh',\n",
       "   'name': 'alias',\n",
       "   'optional': False,\n",
       "   'sort': True,\n",
       "   'type': 'string'},\n",
       "  {'facet': False,\n",
       "   'index': True,\n",
       "   'infix': False,\n",
       "   'locale': 'zh',\n",
       "   'name': 'name',\n",
       "   'optional': False,\n",
       "   'sort': True,\n",
       "   'type': 'string'},\n",
       "  {'facet': False,\n",
       "   'index': True,\n",
       "   'infix': False,\n",
       "   'locale': '',\n",
       "   'name': 'location',\n",
       "   'optional': False,\n",
       "   'sort': True,\n",
       "   'type': 'geopoint'}],\n",
       " 'name': 'targetname',\n",
       " 'num_documents': 107,\n",
       " 'symbols_to_index': [],\n",
       " 'token_separators': []}"
      ]
     },
     "execution_count": 6,
     "metadata": {},
     "output_type": "execute_result"
    }
   ],
   "source": [
    "# retrieve information for collection\n",
    "client.collections[f'{schema_name}'].retrieve()"
   ]
  },
  {
   "cell_type": "code",
   "execution_count": 3,
   "id": "86aca3e5-0930-4c17-b714-1425ef394a6b",
   "metadata": {},
   "outputs": [
    {
     "data": {
      "text/plain": [
       "{'created_at': 1692958339,\n",
       " 'default_sorting_field': 'alias',\n",
       " 'enable_nested_fields': False,\n",
       " 'fields': [{'facet': True,\n",
       "   'index': True,\n",
       "   'infix': False,\n",
       "   'locale': '',\n",
       "   'name': 'country',\n",
       "   'optional': False,\n",
       "   'sort': False,\n",
       "   'type': 'string'},\n",
       "  {'facet': True,\n",
       "   'index': True,\n",
       "   'infix': False,\n",
       "   'locale': '',\n",
       "   'name': 'language',\n",
       "   'optional': False,\n",
       "   'sort': False,\n",
       "   'type': 'string'},\n",
       "  {'facet': True,\n",
       "   'index': True,\n",
       "   'infix': False,\n",
       "   'locale': '',\n",
       "   'name': 'target_type',\n",
       "   'optional': False,\n",
       "   'sort': False,\n",
       "   'type': 'string'},\n",
       "  {'facet': False,\n",
       "   'index': True,\n",
       "   'infix': False,\n",
       "   'locale': '',\n",
       "   'name': 'alias_id',\n",
       "   'optional': False,\n",
       "   'sort': False,\n",
       "   'type': 'string'},\n",
       "  {'facet': False,\n",
       "   'index': True,\n",
       "   'infix': False,\n",
       "   'locale': '',\n",
       "   'name': 'target_id',\n",
       "   'optional': False,\n",
       "   'sort': False,\n",
       "   'type': 'string'},\n",
       "  {'facet': False,\n",
       "   'index': True,\n",
       "   'infix': False,\n",
       "   'locale': '',\n",
       "   'name': 'alias',\n",
       "   'optional': False,\n",
       "   'sort': True,\n",
       "   'type': 'string'},\n",
       "  {'facet': False,\n",
       "   'index': True,\n",
       "   'infix': False,\n",
       "   'locale': '',\n",
       "   'name': 'name',\n",
       "   'optional': False,\n",
       "   'sort': True,\n",
       "   'type': 'string'},\n",
       "  {'facet': False,\n",
       "   'index': True,\n",
       "   'infix': False,\n",
       "   'locale': '',\n",
       "   'name': 'location',\n",
       "   'optional': False,\n",
       "   'sort': True,\n",
       "   'type': 'geopoint'}],\n",
       " 'name': 'targetname',\n",
       " 'num_documents': 107,\n",
       " 'symbols_to_index': [],\n",
       " 'token_separators': []}"
      ]
     },
     "execution_count": 3,
     "metadata": {},
     "output_type": "execute_result"
    }
   ],
   "source": [
    "# drop a collection\n",
    "client.collections[f'{schema_name}'].delete()"
   ]
  },
  {
   "cell_type": "code",
   "execution_count": null,
   "id": "56876f84-55a6-4652-b482-0effce8fbff0",
   "metadata": {},
   "outputs": [],
   "source": []
  }
 ],
 "metadata": {
  "kernelspec": {
   "display_name": "Python 3 (ipykernel)",
   "language": "python",
   "name": "python3"
  },
  "language_info": {
   "codemirror_mode": {
    "name": "ipython",
    "version": 3
   },
   "file_extension": ".py",
   "mimetype": "text/x-python",
   "name": "python",
   "nbconvert_exporter": "python",
   "pygments_lexer": "ipython3",
   "version": "3.11.4"
  }
 },
 "nbformat": 4,
 "nbformat_minor": 5
}
