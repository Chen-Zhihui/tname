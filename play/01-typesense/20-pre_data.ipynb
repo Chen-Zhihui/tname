{
 "cells": [
  {
   "cell_type": "markdown",
   "id": "76b31f42-7ac7-4e8b-8376-63c92f7b44aa",
   "metadata": {},
   "source": [
    "# pip"
   ]
  },
  {
   "cell_type": "code",
   "execution_count": null,
   "id": "e8cda255-aad1-41d1-83cd-c73cc38bd00a",
   "metadata": {},
   "outputs": [],
   "source": [
    "!pip install jsonlines"
   ]
  },
  {
   "cell_type": "code",
   "execution_count": null,
   "id": "9fb09e26-2095-438d-9e02-878c8916c805",
   "metadata": {},
   "outputs": [],
   "source": [
    "! pip install faker\n",
    "! pip install faker_airtravel"
   ]
  },
  {
   "cell_type": "code",
   "execution_count": 35,
   "id": "d33d0aa1-55ee-4665-b51f-a9c24424fb38",
   "metadata": {},
   "outputs": [
    {
     "name": "stdout",
     "output_type": "stream",
     "text": [
      "Collecting dataclasses-json\n",
      "  Obtaining dependency information for dataclasses-json from https://files.pythonhosted.org/packages/97/5f/e7cc90f36152810cab08b6c9c1125e8bcb9d76f8b3018d101b5f877b386c/dataclasses_json-0.5.14-py3-none-any.whl.metadata\n",
      "  Downloading dataclasses_json-0.5.14-py3-none-any.whl.metadata (22 kB)\n",
      "Collecting marshmallow<4.0.0,>=3.18.0 (from dataclasses-json)\n",
      "  Obtaining dependency information for marshmallow<4.0.0,>=3.18.0 from https://files.pythonhosted.org/packages/ed/3c/cebfdcad015240014ff08b883d1c0c427f2ba45ae8c6572851b6ef136cad/marshmallow-3.20.1-py3-none-any.whl.metadata\n",
      "  Downloading marshmallow-3.20.1-py3-none-any.whl.metadata (7.8 kB)\n",
      "Collecting typing-inspect<1,>=0.4.0 (from dataclasses-json)\n",
      "  Obtaining dependency information for typing-inspect<1,>=0.4.0 from https://files.pythonhosted.org/packages/65/f3/107a22063bf27bdccf2024833d3445f4eea42b2e598abfbd46f6a63b6cb0/typing_inspect-0.9.0-py3-none-any.whl.metadata\n",
      "  Downloading typing_inspect-0.9.0-py3-none-any.whl.metadata (1.5 kB)\n",
      "Requirement already satisfied: packaging>=17.0 in /home/d/anaconda3/envs/s/lib/python3.11/site-packages (from marshmallow<4.0.0,>=3.18.0->dataclasses-json) (23.1)\n",
      "Requirement already satisfied: mypy-extensions>=0.3.0 in /home/d/anaconda3/envs/s/lib/python3.11/site-packages (from typing-inspect<1,>=0.4.0->dataclasses-json) (1.0.0)\n",
      "Requirement already satisfied: typing-extensions>=3.7.4 in /home/d/anaconda3/envs/s/lib/python3.11/site-packages (from typing-inspect<1,>=0.4.0->dataclasses-json) (4.7.1)\n",
      "Downloading dataclasses_json-0.5.14-py3-none-any.whl (26 kB)\n",
      "Downloading marshmallow-3.20.1-py3-none-any.whl (49 kB)\n",
      "\u001b[2K   \u001b[38;2;114;156;31m━━━━━━━━━━━━━━━━━━━━━━━━━━━━━━━━━━━━━━━━\u001b[0m \u001b[32m49.4/49.4 kB\u001b[0m \u001b[31m1.2 MB/s\u001b[0m eta \u001b[36m0:00:00\u001b[0m[31m4.9 MB/s\u001b[0m eta \u001b[36m0:00:01\u001b[0m\n",
      "\u001b[?25hDownloading typing_inspect-0.9.0-py3-none-any.whl (8.8 kB)\n",
      "Installing collected packages: typing-inspect, marshmallow, dataclasses-json\n",
      "Successfully installed dataclasses-json-0.5.14 marshmallow-3.20.1 typing-inspect-0.9.0\n"
     ]
    }
   ],
   "source": [
    "! pip install dataclasses-json"
   ]
  },
  {
   "cell_type": "markdown",
   "id": "4a5c7ae2-9d0d-4970-8ad3-9f349315455d",
   "metadata": {},
   "source": [
    "# UUID"
   ]
  },
  {
   "cell_type": "code",
   "execution_count": 7,
   "id": "5a5dccf0-4206-4581-8ae0-71ab91addac3",
   "metadata": {},
   "outputs": [
    {
     "name": "stdout",
     "output_type": "stream",
     "text": [
      "00000000-0000-0000-0000-000000000000\n",
      "00000000-0000-0000-0000-000000000000\n",
      "00000000-0000-0000-0000-000000000000\n",
      "<class 'uuid.UUID'>\n"
     ]
    },
    {
     "data": {
      "text/plain": [
       "'00000000-0000-0000-0000-000000000000'"
      ]
     },
     "execution_count": 7,
     "metadata": {},
     "output_type": "execute_result"
    }
   ],
   "source": [
    "import uuid\n",
    "ns = \"hello\"\n",
    "name = \"world\"\n",
    "\n",
    "print(uuid.UUID('{00000000-0000-0000-0000-000000000000}'))\n",
    "print(uuid.UUID('00000000-0000-0000-0000-000000000000'))\n",
    "print(f\"{uuid.UUID(int=0)}\")\n",
    "print(type(uuid.NAMESPACE_DNS))\n",
    "f\"{uuid.UUID(int=0)}\""
   ]
  },
  {
   "cell_type": "code",
   "execution_count": 29,
   "id": "4253daab-6608-406d-b0d5-1835c05254fc",
   "metadata": {},
   "outputs": [
    {
     "data": {
      "text/plain": [
       "'6f1359ca-4321-11ee-8f7a-00155dc4f249'"
      ]
     },
     "execution_count": 29,
     "metadata": {},
     "output_type": "execute_result"
    }
   ],
   "source": [
    "f\"{uuid.uuid1()}\""
   ]
  },
  {
   "cell_type": "markdown",
   "id": "e714d45c-ef5a-4cf4-9e5b-f2fb736fc234",
   "metadata": {},
   "source": [
    "# faker"
   ]
  },
  {
   "cell_type": "code",
   "execution_count": 14,
   "id": "dfc98fda-fb4a-4a99-a453-9dca7d2ff192",
   "metadata": {},
   "outputs": [
    {
     "name": "stdout",
     "output_type": "stream",
     "text": [
      "31562 臺中縣永和路9段19號之7 1號 太保 縣 Taiwan 正義路4段21號 廣慈 路\n",
      "81217 澎湖永寧巷918號7樓 37號 橫山 市 Taiwan 中央路905號 奇岩 路\n",
      "34797 金門天母路459號6樓 63號 雲林市 市 Taiwan 和平巷516號 永和 路\n",
      "91667 金門市光明街8號之8 36號 關山縣 市 Taiwan 中山街755號 興 巷\n",
      "26104 八德昆陽巷8號3樓 2號 北斗縣 縣 Taiwan 紅樹林街2號 北投 街\n",
      "22075 樹林縣公園巷7段857號2樓 7號 新北市 縣 Taiwan 劍南巷4段84號 明德 路\n",
      "42476 鳳山仁愛路6號0樓 40號 台南市 市 Taiwan 松山路48號 建國 巷\n",
      "507 古坑雙連街4段79號之8 83號 中和縣 市 Taiwan 民族路60號 新北投 巷\n",
      "557 蘆洲市新莊路52號之7 5號 永和縣 市 Taiwan 福安街3段4號 自立 路\n",
      "829 三重市中央街8段92號之2 11號 雲林 市 Taiwan 府中街523號 育英 街\n"
     ]
    }
   ],
   "source": [
    "from faker import Faker\n",
    "from faker.providers import internet\n",
    "\n",
    "fake = Faker(\"zh-tw\")\n",
    "for i in range(10):\n",
    "    print(fake.address(), fake.building_number(), fake.city(), fake.city_suffix(), fake.current_country(), fake.street_address(), fake.street_name(), fake.street_suffix())"
   ]
  },
  {
   "cell_type": "code",
   "execution_count": 15,
   "id": "4de40fde-28ec-489c-9e4d-72c6d7f709b6",
   "metadata": {},
   "outputs": [
    {
     "name": "stdout",
     "output_type": "stream",
     "text": [
      "港口\n",
      "港口\n",
      "电厂\n",
      "防空阵地\n",
      "军营\n",
      "电厂\n",
      "军营\n",
      "机场\n",
      "港口\n",
      "军营\n"
     ]
    }
   ],
   "source": [
    "from faker import Faker\n",
    "from faker.providers import DynamicProvider\n",
    "target_type_provider = DynamicProvider(\n",
    "     provider_name=\"target_type\",\n",
    "     elements=[\"军营\", \"港口\", \"机场\", \"电厂\", \"防空阵地\"],\n",
    ")\n",
    "fake=Faker()\n",
    "fake.add_provider(target_type_provider)\n",
    "for i in range(10):\n",
    "    print(fake.target_type())"
   ]
  },
  {
   "cell_type": "code",
   "execution_count": 16,
   "id": "1ab94e04-b496-4bb4-b89b-58e05e1dbef7",
   "metadata": {},
   "outputs": [],
   "source": [
    "lat, lon = fake.latlng()"
   ]
  },
  {
   "cell_type": "code",
   "execution_count": 17,
   "id": "28225047-2b30-4af5-9da8-4672d8db5a60",
   "metadata": {},
   "outputs": [
    {
     "name": "stdout",
     "output_type": "stream",
     "text": [
      "69.944193 145.359814\n"
     ]
    }
   ],
   "source": [
    "print(lat, lon)"
   ]
  },
  {
   "cell_type": "markdown",
   "id": "8bbc63a8-42b7-4e5b-8c6a-100694aa8a75",
   "metadata": {},
   "source": [
    "# 准备测试数据\n",
    "## 目标数据结构"
   ]
  },
  {
   "cell_type": "code",
   "execution_count": 53,
   "id": "c8dcf326-de32-4b4a-a365-794b05892d8b",
   "metadata": {},
   "outputs": [],
   "source": [
    "# import uuid\n",
    "# from dataclasses_json import dataclass_json\n",
    "# INVALID_ID = f\"{uuid.UUID(int=0)}\"\n",
    "\n",
    "# from typing import List\n",
    "# import dataclasses\n",
    "\n",
    "# @dataclass_json\n",
    "# @dataclasses.dataclass\n",
    "# class AliasTarget:\n",
    "#     language : str = \"chs\"\n",
    "#     alias_id : str = INVALID_ID\n",
    "#     alias : str = \"\"\n",
    "#     name : str = \"\"\n",
    "#     target_id : str = INVALID_ID\n",
    "#     country : str = \"\"\n",
    "#     location : List = dataclasses.field(default_factory=lambda : [0., 0.]) # [0., 0.] # latitude, longtitude\n",
    "#     target_type : str = \"\"\n",
    "\n",
    "from tname.alias import AliasTarget"
   ]
  },
  {
   "cell_type": "code",
   "execution_count": 47,
   "id": "634dcbb5-1f97-4aeb-b426-a1750065c3e1",
   "metadata": {},
   "outputs": [],
   "source": [
    "import pathlib\n",
    "names_path = \"./target_names.txt\"\n",
    "with open(names_path) as nf:\n",
    "    names = [ line.split() for line in nf.readlines() ]"
   ]
  },
  {
   "cell_type": "code",
   "execution_count": 48,
   "id": "d4eb2f95-384b-47ae-8ecd-f39228a0c87c",
   "metadata": {},
   "outputs": [
    {
     "name": "stdout",
     "output_type": "stream",
     "text": [
      "[['志航雷达站', '志航雷达'], ['林田山雷达', '田山雷达站站'], ['美仑山雷', '仑山雷达站达站'], ['东澳岭', '澳岭雷达站雷达站'], ['鹅銮', '銮鼻雷达站', '鹅銮鼻雷达鼻雷达站'], ['大', '大汉雷达站汉山雷达站'], ['大岗雷达站大岗山雷达站'], ['拱北雷达站'], ['拱北山雷达站', '太武雷达站'], ['太武山雷达站'], ['外埔雷达站'], ['嵩山雷达站'], ['富贵角雷达站'], ['东引雷达站'], ['佳山基地'], ['屏东基地'], ['志航基地'], ['清泉岗空军基地'], ['花莲基地', '新竹空军基地'], ['嘉义基地'], ['清泉岗基', '马公基地地'], ['新竹基地'], ['台南基地'], ['马公空军基地'], ['基隆军港'], ['左营军', '芦竹区草仔崎营区', '草仔崎营区港'], ['马公军港'], ['苏澳', '竹南公义里营区', '公义里营区军港'], ['桃园市芦竹区草仔崎营', '泰山区明志路神箭营区', '明志路神箭营区', '神箭营区区'], ['苗栗县竹南公义里营', '梅区太平里营区', '太平里营区区'], ['新北市泰山区明志', '三峡区三峡营区', '三峡营区路神箭营区'], ['桃园市杨梅区太平里营', '水上乡水上营区', '水上营区区'], ['新北市三峡区三峡', '太平区坪林营区', '坪林营区营区'], ['乐山雷达站'], ['嘉', '清泉岗营区义县水上乡水上营区'], ['虎踞营区台中市太平区坪林营区'], ['考潭营区'], ['台中市沙鹿区清泉岗营区', '大圣西营区'], ['台南市新化区', '南港营区虎踞营区'], ['高雄市仁武', '神雕营区区考潭营区'], ['屏东县屏东', '中幅子营区市大圣西营区'], ['台北市南港营区'], ['新北市新店区神雕营区'], ['新北市万里区中幅子营区'], ['虎豹坑弹药库'], ['旗山弹药库'], ['东山弹药库'], ['番路弹药库', '中庄营区'], ['番社弹药库'], ['大林军营药库'], ['天马弹药库'], ['八德弹药库'], ['苏花高速'], ['嘉义的中庄营区'], ['嘉义633营第3连部署的“爱国者”防空导弹'], ['加固机堡'], ['机场西南部下方的“天空卫士”防空系统阵地'], ['机场西北方向的弹药库'], ['嘉义空军基地'], ['台陆军训练南区联合测考中心'], ['嘉义的中庄营区'], ['清泉岗的飞机维修厂区'], ['759旅633营1连的“爱国者”防空阵地'], ['“天空卫士”近程防空系统阵地'], ['测天岛弹药库'], ['案山的海军油库'], ['澎湖五德营区'], ['天弓野战阵地'], ['天弓1型的发射阵地'], ['天弓导弹的射控基地'], ['马公拱北山炮台雷达站'], ['西屿雷达站'], ['马公机场'], ['少康营区'], ['会结营区'], ['台中清泉崗國際機場']]\n"
     ]
    }
   ],
   "source": [
    "# 生成一些真目标，用一些伪造的地名\n",
    "print(names)"
   ]
  },
  {
   "cell_type": "code",
   "execution_count": 49,
   "id": "09ba254c-1b6a-4e66-97ea-48bdeb2dde01",
   "metadata": {},
   "outputs": [],
   "source": [
    "from faker import Faker\n",
    "from faker.providers import DynamicProvider\n",
    "import random\n",
    "from operator import add\n",
    "from functools import reduce\n",
    "target_type_provider = DynamicProvider(\n",
    "     provider_name=\"target_type\",\n",
    "     elements=[\"军营\", \"港口\", \"机场\", \"电厂\", \"防空阵地\"],\n",
    ")\n",
    "fake=Faker(\"zh-tw\")\n",
    "fake.add_provider(target_type_provider)\n",
    "\n",
    "top, left = [24.0734,120.4294]\n",
    "bottom, right = [22.8028,121.1380]\n",
    "\n",
    "def create_target_items(names):\n",
    "    n = names[0]\n",
    "    target_id = f\"{uuid.uuid1()}\"\n",
    "    lat = random.uniform(bottom, top)\n",
    "    lon = random.uniform(left, right)\n",
    "    return [ \n",
    "        AliasTarget(\n",
    "            alias=name, \n",
    "            name=n,\n",
    "            alias_id = f\"{uuid.uuid1()}\",\n",
    "            target_id = target_id,\n",
    "            target_type = fake.target_type(),\n",
    "            location = [lat, lon],\n",
    "            country= \"tw\"\n",
    "        ) for name in names ]\n",
    "\n",
    "alias = reduce(add, map(create_target_items, names), [])"
   ]
  },
  {
   "cell_type": "code",
   "execution_count": 50,
   "id": "91818a59-3a0f-4b69-b059-e07a86ea5962",
   "metadata": {},
   "outputs": [
    {
     "data": {
      "text/plain": [
       "'{\"language\": \"chs\", \"alias_id\": \"cc7cf400-432f-11ee-8f7a-00155dc4f249\", \"alias\": \"\\\\u9e45\\\\u92ae\\\\u9f3b\\\\u96f7\\\\u8fbe\\\\u9f3b\\\\u96f7\\\\u8fbe\\\\u7ad9\", \"name\": \"\\\\u9e45\\\\u92ae\", \"target_id\": \"cc7cf374-432f-11ee-8f7a-00155dc4f249\", \"country\": \"tw\", \"location\": [23.026637740397973, 120.63380502308954], \"target_type\": \"\\\\u7535\\\\u5382\"}'"
      ]
     },
     "execution_count": 50,
     "metadata": {},
     "output_type": "execute_result"
    }
   ],
   "source": [
    "alias[10].to_json()"
   ]
  },
  {
   "cell_type": "code",
   "execution_count": 51,
   "id": "091efb6b-e209-4a4c-9407-ee55fcfbd5bb",
   "metadata": {},
   "outputs": [],
   "source": [
    "import jsonlines\n",
    "with jsonlines.open(\"alias.jsonl\", \"w\") as writer:\n",
    "    for a in alias:\n",
    "        writer.write(dataclasses.asdict(a))"
   ]
  },
  {
   "cell_type": "code",
   "execution_count": null,
   "id": "305d4463-5bcb-4dcc-848c-f3fe7d232756",
   "metadata": {},
   "outputs": [],
   "source": []
  }
 ],
 "metadata": {
  "kernelspec": {
   "display_name": "Python 3 (ipykernel)",
   "language": "python",
   "name": "python3"
  },
  "language_info": {
   "codemirror_mode": {
    "name": "ipython",
    "version": 3
   },
   "file_extension": ".py",
   "mimetype": "text/x-python",
   "name": "python",
   "nbconvert_exporter": "python",
   "pygments_lexer": "ipython3",
   "version": "3.11.4"
  }
 },
 "nbformat": 4,
 "nbformat_minor": 5
}
