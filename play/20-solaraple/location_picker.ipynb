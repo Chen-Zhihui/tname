{
 "cells": [
  {
   "cell_type": "code",
   "execution_count": 8,
   "id": "98893796-35f4-4dbe-a8f1-39e2b2faeadc",
   "metadata": {},
   "outputs": [
    {
     "data": {
      "application/vnd.jupyter.widget-view+json": {
       "model_id": "8c319e72da854c1f9b4aa56ce36cf127",
       "version_major": 2,
       "version_minor": 0
      },
      "text/plain": [
       "Map(center=[50, 354], controls=(ZoomControl(options=['position', 'zoom_in_text', 'zoom_in_title', 'zoom_out_te…"
      ]
     },
     "execution_count": 8,
     "metadata": {},
     "output_type": "execute_result"
    }
   ],
   "source": [
    "#%%\n",
    "from ipyleaflet import Map, basemaps, basemap_to_tiles, DrawControl\n",
    "\n",
    "watercolor = basemap_to_tiles(basemaps.Stamen.Watercolor)\n",
    "\n",
    "m = Map(layers=(watercolor, ), center=(50, 354), zoom=5)\n",
    "\n",
    "draw_control = DrawControl(\n",
    "    \n",
    ")\n",
    "draw_control.polyline = {}\n",
    "draw_control.polygon ={}\n",
    "draw_control.circle ={}\n",
    "# draw_control.circlemarker ={}\n",
    "draw_control.rectangle ={}\n",
    "draw_control.marker ={}\n",
    "draw_control.edit = False\n",
    "draw_control.remove = False\n",
    "\n",
    "draw_control.circle = {\n",
    "    \"shapeOptions\": {\n",
    "        \"fillColor\": \"#efed69\",\n",
    "        \"color\": \"#efed69\",\n",
    "        \"fillOpacity\": 1.0\n",
    "    }\n",
    "}\n",
    "\n",
    "def cb(control, action, geo_json) :\n",
    "    print(f\"control: {control}\")\n",
    "    print(f\"action: {action}\")\n",
    "    print(f\"geo_json: {geo_json}\")\n",
    "\n",
    "draw_control.on_draw(cb)\n",
    "\n",
    "m.add_control(draw_control)\n",
    "m\n"
   ]
  },
  {
   "cell_type": "code",
   "execution_count": null,
   "id": "d9ada915-cf96-4207-8201-c2782da4af25",
   "metadata": {},
   "outputs": [],
   "source": []
  }
 ],
 "metadata": {
  "kernelspec": {
   "display_name": "Python 3 (ipykernel)",
   "language": "python",
   "name": "python3"
  },
  "language_info": {
   "codemirror_mode": {
    "name": "ipython",
    "version": 3
   },
   "file_extension": ".py",
   "mimetype": "text/x-python",
   "name": "python",
   "nbconvert_exporter": "python",
   "pygments_lexer": "ipython3",
   "version": "3.11.4"
  }
 },
 "nbformat": 4,
 "nbformat_minor": 5
}
