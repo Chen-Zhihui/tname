{
 "cells": [
  {
   "cell_type": "code",
   "execution_count": 1,
   "id": "98893796-35f4-4dbe-a8f1-39e2b2faeadc",
   "metadata": {},
   "outputs": [],
   "source": [
    "from location import Location, LocationMapperWidget\n",
    "import solara\n",
    "from tname.alias import AliasTarget"
   ]
  },
  {
   "cell_type": "code",
   "execution_count": 2,
   "id": "d9ada915-cf96-4207-8201-c2782da4af25",
   "metadata": {},
   "outputs": [
    {
     "data": {
      "application/vnd.jupyter.widget-view+json": {
       "model_id": "26221aacf738404cb2092490291f9d9f",
       "version_major": 2,
       "version_minor": 0
      },
      "text/html": [
       "Cannot show widget. You probably want to rerun the code cell above (<i>Click in the code cell, and press Shift+Enter <kbd>⇧</kbd>+<kbd>↩</kbd></i>)."
      ],
      "text/plain": [
       "Cannot show ipywidgets in text"
      ]
     },
     "metadata": {},
     "output_type": "display_data"
    }
   ],
   "source": [
    "EXAMPLE_LOCATIONS_EMPTY = []\n",
    "\n",
    "as_list_init = [\n",
    "{\"language\": \"chs\", \"alias_id\": \"cc7ceffa-432f-11ee-8f7a-00155dc4f249\", \"alias\": \"志航雷达站\", \"name\": \"志航雷达站\", \"target_id\": \"cc7ceee2-432f-11ee-8f7a-00155dc4f249\", \"country\": \"tw\", \"location\": [23.404119832450892, 120.58161709312168], \"target_type\": \"军营\"},\n",
    "{\"language\": \"chs\", \"alias_id\": \"cc7cf0f4-432f-11ee-8f7a-00155dc4f249\", \"alias\": \"志航雷达\", \"name\": \"志航雷达站\", \"target_id\": \"cc7ceee2-432f-11ee-8f7a-00155dc4f249\", \"country\": \"tw\", \"location\": [23.404119832450892, 120.58161709312168], \"target_type\": \"电厂\"},\n",
    "{\"language\": \"chs\", \"alias_id\": \"cc7cf194-432f-11ee-8f7a-00155dc4f249\", \"alias\": \"林田山雷达\", \"name\": \"林田山雷达\", \"target_id\": \"cc7cf16c-432f-11ee-8f7a-00155dc4f249\", \"country\": \"tw\", \"location\": [23.129186874986946, 121.08013062435067], \"target_type\": \"港口\"},\n",
    "{\"language\": \"chs\", \"alias_id\": \"cc7cf1da-432f-11ee-8f7a-00155dc4f249\", \"alias\": \"田山雷达站站\", \"name\": \"林田山雷达\", \"target_id\": \"cc7cf16c-432f-11ee-8f7a-00155dc4f249\", \"country\": \"tw\", \"location\": [23.129186874986946, 121.08013062435067], \"target_type\": \"港口\"},\n",
    "{\"language\": \"chs\", \"alias_id\": \"cc7cf248-432f-11ee-8f7a-00155dc4f249\", \"alias\": \"美仑山雷\", \"name\": \"美仑山雷\", \"target_id\": \"cc7cf22a-432f-11ee-8f7a-00155dc4f249\", \"country\": \"tw\", \"location\": [23.664779158344224, 120.60514845546976], \"target_type\": \"机场\"},\n",
    "{\"language\": \"chs\", \"alias_id\": \"cc7cf28e-432f-11ee-8f7a-00155dc4f249\", \"alias\": \"仑山雷达站达站\", \"name\": \"美仑山雷\", \"target_id\": \"cc7cf22a-432f-11ee-8f7a-00155dc4f249\", \"country\": \"tw\", \"location\": [23.664779158344224, 120.60514845546976], \"target_type\": \"防空阵地\"},\n",
    "{\"language\": \"chs\", \"alias_id\": \"cc7cf2f2-432f-11ee-8f7a-00155dc4f249\", \"alias\": \"东澳岭\", \"name\": \"东澳岭\", \"target_id\": \"cc7cf2d4-432f-11ee-8f7a-00155dc4f249\", \"country\": \"tw\", \"location\": [23.09174090430521, 120.55425007263351], \"target_type\": \"防空阵地\"},\n",
    "{\"language\": \"chs\", \"alias_id\": \"cc7cf338-432f-11ee-8f7a-00155dc4f249\", \"alias\": \"澳岭雷达站雷达站\", \"name\": \"东澳岭\", \"target_id\": \"cc7cf2d4-432f-11ee-8f7a-00155dc4f249\", \"country\": \"tw\", \"location\": [23.09174090430521, 120.55425007263351], \"target_type\": \"军营\"},\n",
    "{\"language\": \"chs\", \"alias_id\": \"cc7cf392-432f-11ee-8f7a-00155dc4f249\", \"alias\": \"鹅銮\", \"name\": \"鹅銮\", \"target_id\": \"cc7cf374-432f-11ee-8f7a-00155dc4f249\", \"country\": \"tw\", \"location\": [23.026637740397973, 120.63380502308954], \"target_type\": \"港口\"}    ,\n",
    "]\n",
    "as_list_obj = [AliasTarget.from_dict(j) for j in as_list_init]\n",
    "\n",
    "def create_location(a : AliasTarget):\n",
    "    return Location(name=a.name, latitude=a.location[0], longitude=a.location[1])\n",
    "\n",
    "@solara.component \n",
    "def TestLocation():\n",
    "    # 查询条件\n",
    "    query, set_query = solara.use_state(\"\") \n",
    "    locs, set_locs = solara.use_state(EXAMPLE_LOCATIONS_EMPTY)\n",
    "    alias, set_alias = solara.use_state(as_list_obj)\n",
    "    with solara.Card() as main :\n",
    "        with solara.Row() :            \n",
    "            LocationMapperWidget(\n",
    "                locations = locs\n",
    "                )        \n",
    "            with solara.Column() :\n",
    "                solara.InputText(label=\"输入查询条件\", value=query) \n",
    "                for a in alias :\n",
    "                    def move_to(aa):\n",
    "                        def m():\n",
    "                            set_locs( [create_location(aa) ] )\n",
    "                        return m\n",
    "                        \n",
    "                    solara.Button(\n",
    "                        f\"{a.name}:{a.alias}\", on_click=move_to(a))\n",
    "                    \n",
    "                solara.Button(\"Markers Clear\", \n",
    "                                on_click=lambda : set_locs(EXAMPLE_LOCATIONS_EMPTY))\n",
    "\n",
    "    return main\n",
    "l = TestLocation()\n",
    "display(l)"
   ]
  },
  {
   "cell_type": "code",
   "execution_count": null,
   "id": "1c749ee9-0b8f-438e-8e36-af55afd62d14",
   "metadata": {},
   "outputs": [],
   "source": []
  }
 ],
 "metadata": {
  "kernelspec": {
   "display_name": "Python 3 (ipykernel)",
   "language": "python",
   "name": "python3"
  },
  "language_info": {
   "codemirror_mode": {
    "name": "ipython",
    "version": 3
   },
   "file_extension": ".py",
   "mimetype": "text/x-python",
   "name": "python",
   "nbconvert_exporter": "python",
   "pygments_lexer": "ipython3",
   "version": "3.11.4"
  }
 },
 "nbformat": 4,
 "nbformat_minor": 5
}
