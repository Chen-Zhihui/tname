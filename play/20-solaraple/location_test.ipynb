{
 "cells": [
  {
   "cell_type": "code",
   "execution_count": 1,
   "id": "70912e56-c811-4c40-b818-199267da38fe",
   "metadata": {},
   "outputs": [],
   "source": [
    "from location import Location, LocationMapperWidget\n",
    "import solara"
   ]
  },
  {
   "cell_type": "code",
   "execution_count": 2,
   "id": "4de55b72-2afa-4119-ac70-033df558009b",
   "metadata": {},
   "outputs": [],
   "source": [
    "# %%\n",
    "# 测试数据\n",
    "EXAMPLE_LOCATIONS = [\n",
    "    Location(name=\"unname1\", latitude=24.2629, longitude=120.6283),\n",
    "    Location(name=\"unname2\", latitude=24.2729, longitude=120.6383),\n",
    "    ]\n",
    "EXAMPLE_LOCATIONS_EMPTY = []\n",
    "\n",
    "# EXAMPLE_LOCATIONS = pd.DataFrame([\n",
    "#     (\"unname\", 24.2629, 120.6283),\n",
    "#     (\"unname\", 24.2729, 120.6383),\n",
    "#     (\"unname\", 24.2829, 120.6483),\n",
    "#     (\"unname\", 24.2929, 120.6583),\n",
    "#     (\"unname\", 24.3029, 120.6683),\n",
    "#     ], columns=[\"name\", \"latitude\", \"longitude\"])\n",
    "# EXAMPLE_LOCATIONS_EMPTY = pd.DataFrame()\n",
    "\n",
    "@solara.component \n",
    "def TestLocation():\n",
    "    locs, set_locs = solara.use_state(EXAMPLE_LOCATIONS)\n",
    "    with solara.Card() as main :\n",
    "        LocationMapperWidget(\n",
    "            locations = locs\n",
    "            )\n",
    "        with solara.Row(justify=\"center\") :\n",
    "            solara.Button(\"Markers Set\", \n",
    "                            on_click=lambda : set_locs(EXAMPLE_LOCATIONS))\n",
    "            solara.Button(\"Markers Clear\", \n",
    "                            on_click=lambda : set_locs(EXAMPLE_LOCATIONS_EMPTY))\n",
    "\n",
    "    return main"
   ]
  },
  {
   "cell_type": "code",
   "execution_count": 4,
   "id": "709959b0-d1af-42f2-a3c7-32f85575171b",
   "metadata": {},
   "outputs": [
    {
     "data": {
      "application/vnd.jupyter.widget-view+json": {
       "model_id": "44fe5371d3f2485b8e622fa8dc111196",
       "version_major": 2,
       "version_minor": 0
      },
      "text/html": [
       "Cannot show widget. You probably want to rerun the code cell above (<i>Click in the code cell, and press Shift+Enter <kbd>⇧</kbd>+<kbd>↩</kbd></i>)."
      ],
      "text/plain": [
       "Cannot show ipywidgets in text"
      ]
     },
     "metadata": {},
     "output_type": "display_data"
    }
   ],
   "source": [
    "l = location.TestLocation()\n",
    "display("
   ]
  },
  {
   "cell_type": "code",
   "execution_count": null,
   "id": "abb44a48-15ef-4ab7-8efd-8282b53510d4",
   "metadata": {},
   "outputs": [],
   "source": []
  }
 ],
 "metadata": {
  "kernelspec": {
   "display_name": "Python 3 (ipykernel)",
   "language": "python",
   "name": "python3"
  },
  "language_info": {
   "codemirror_mode": {
    "name": "ipython",
    "version": 3
   },
   "file_extension": ".py",
   "mimetype": "text/x-python",
   "name": "python",
   "nbconvert_exporter": "python",
   "pygments_lexer": "ipython3",
   "version": "3.11.4"
  }
 },
 "nbformat": 4,
 "nbformat_minor": 5
}
